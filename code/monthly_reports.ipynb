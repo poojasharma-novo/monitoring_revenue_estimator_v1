{
 "cells": [
  {
   "cell_type": "code",
   "execution_count": 6,
   "metadata": {},
   "outputs": [],
   "source": [
    "from bs4 import BeautifulSoup\n",
    "import os\n",
    "import datetime\n",
    "from dateutil.relativedelta import relativedelta\n",
    "\n",
    "path1 = \"/Users/pooja/Desktop/Pooja/revenue_estimator/data/\"\n",
    "path2 = \"/Users/pooja/Desktop/Pooja/revenue_estimator/reports/\""
   ]
  },
  {
   "cell_type": "markdown",
   "metadata": {},
   "source": [
    "#### Combine Reports "
   ]
  },
  {
   "cell_type": "code",
   "execution_count": 7,
   "metadata": {},
   "outputs": [],
   "source": [
    "def combine_html(files, headings, main_heading, output_file):\n",
    "  with open(output_file, \"w\") as output:\n",
    "    output.write(\"<!DOCTYPE html>\\n<html>\\n<head>\\n\")\n",
    "    output.write('<meta charset=\"UTF-8\">')\n",
    "    output.write('<title>Combined Report</title>')\n",
    "\n",
    "    # CSS for centered and highlighted headings\n",
    "    output.write(\"\"\"\n",
    "      <style>\n",
    "        .highlight {\n",
    "          text-align: center;\n",
    "          background-color: #ddd;\n",
    "          padding: 10px;\n",
    "          border: 1px solid #ddd;\n",
    "        }\n",
    "        .heading {\n",
    "            text-align: center;\n",
    "            padding: 10px;\n",
    "        }\n",
    "      </style>\n",
    "    \"\"\")\n",
    "    output.write(f\"<h1 class='heading'>{main_heading}</h1>\")\n",
    "    output.write(\"\\n</head>\\n<body>\\n\")\n",
    "\n",
    "    # Combine contents with styled headings\n",
    "    for file, heading in zip(files, headings):\n",
    "      with open(file, \"r\") as f:\n",
    "          content = f.read()\n",
    "          soup = BeautifulSoup(content, \"html.parser\")\n",
    "\n",
    "          output.write(f\"<h2 class='highlight'>{heading}</h2>\")\n",
    "          output.write(str(soup))\n",
    "      output.write(\"\\n\\n\")\n",
    "\n",
    "    output.write(\"\\n</body>\\n</html>\")\n",
    "\n",
    "   "
   ]
  },
  {
   "cell_type": "code",
   "execution_count": 8,
   "metadata": {},
   "outputs": [],
   "source": [
    "months = ['jan23', 'feb23','mar23','apr23', 'may23','jun23', 'jul23', 'aug23', 'sept23']\n",
    "\n",
    "for month in months: \n",
    "    file1 = path2 + \"model_drift/testsuite_\" + month + \".html\"\n",
    "    file2 = path2 + \"model_drift/preset_\" + month+ \".html\"\n",
    "    file3 = path2 + \"data_drift/data_stability_\"+month+ \".html\"\n",
    "\n",
    "    files = [file1, file2, file3]\n",
    "    heading1 = \"Model Performance Tests\"\n",
    "    heading2 = \"Model Performance\"\n",
    "    heading3 = \"Dataset Stability\"\n",
    "    main_heading = month+\" Report\"\n",
    "    output_file = path2 + 'combined_reports/report_' +month+'.html'  \n",
    "    headings = [heading1, heading2, heading3]\n",
    "\n",
    "    combine_html(files, headings, main_heading, output_file)"
   ]
  }
 ],
 "metadata": {
  "kernelspec": {
   "display_name": "ds",
   "language": "python",
   "name": "python3"
  },
  "language_info": {
   "codemirror_mode": {
    "name": "ipython",
    "version": 3
   },
   "file_extension": ".py",
   "mimetype": "text/x-python",
   "name": "python",
   "nbconvert_exporter": "python",
   "pygments_lexer": "ipython3",
   "version": "3.9.18"
  }
 },
 "nbformat": 4,
 "nbformat_minor": 2
}
